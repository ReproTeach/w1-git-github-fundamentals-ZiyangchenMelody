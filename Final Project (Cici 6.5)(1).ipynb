{
 "cells": [
  {
   "cell_type": "markdown",
   "id": "f724856a-12ff-46bf-9b72-4559e6ec187e",
   "metadata": {
    "tags": []
   },
   "source": [
    "# Sentiment and Collocation Analysis of COVID-19 Tweets: Unveiling Variations in Sentiment and Major Topics in the U.S. during Early 2020"
   ]
  },
  {
   "cell_type": "markdown",
   "id": "c2790720-0863-4f8e-b500-ad706177f218",
   "metadata": {
    "tags": []
   },
   "source": [
    "## Introduction\n",
    "During times of the COVID-19 pandemic, Twitter has emerged as a powerful medium for individuals to share their real-time thoughts, concerns, and experiences. Analyzing the sentiments expressed and collocation emerged in tweets in specific time ranges can provide valuable insights and situation-consciousness by examining prevailing public emotions and topics. In this study, we aim to conduct sentiment and collocation analysis on a dataset of tweets related to COVID-19, which included tweets **from March 2nd to April 20th 2020**. Specifically, we focus on people who are located in the United States and seek to address two primary research questions below."
   ]
  },
  {
   "cell_type": "markdown",
   "id": "20e0d4ac-2cd3-40b2-b779-5716d34502dc",
   "metadata": {
    "tags": []
   },
   "source": [
    "## Research Questions\n",
    "Research Question 1: \n",
    "How do sentiment of people in the United States vary during early 2020 about COVID-19?\n",
    "\n",
    "This research question seeks to investigate the sentiment dynamics among U.S. Twitter users during the initial months of the COVID-19 outbreak. By employing sentiment analysis techniques, we categorize tweets as extremely positive, extremely negative, positive, negative, or neutral, based on the sentiment conveyed, and visualize the distribution by bar graph and pie chart. Analyzing the sentiment trends provides us  insights into the U.S. people’s understanding and interpretation of the pandemic in its initial months.\n",
    "\n",
    "Research Question 2: \n",
    "What are the major topics about COVID-19 people in the United States tweets during early 2020?\n",
    "\n",
    "This question aims to identify and explore the major topics of discussion among U.S. Twitter users during the initial months of the COVID-19 outbreak. By employing collocation analysis techniques, we identify frequently occurring word combinations and related topics that garnered significant attention and engagement from Twitter users. This analysis shed light on the main issues discussed by Twitter users, enabling a comprehensive understanding of the utmost concerns and issues the U.S. people confront and discuss during the early stage of the pandemic."
   ]
  },
  {
   "cell_type": "markdown",
   "id": "f1503f35-c651-48b9-b1df-83ef6c273caf",
   "metadata": {
    "tags": []
   },
   "source": [
    "## Install packages and import libraries"
   ]
  },
  {
   "cell_type": "code",
   "execution_count": 1,
   "id": "ae77528a-17b9-4f87-a07c-3bab548be706",
   "metadata": {
    "tags": []
   },
   "outputs": [
    {
     "name": "stdout",
     "output_type": "stream",
     "text": [
      "Requirement already satisfied: nltk in d:\\study\\coding\\jupyterlab-desktop\\jlab_server\\lib\\site-packages (3.8.1)\n",
      "Requirement already satisfied: click in d:\\study\\coding\\jupyterlab-desktop\\jlab_server\\lib\\site-packages (from nltk) (8.1.3)\n",
      "Requirement already satisfied: joblib in d:\\study\\coding\\jupyterlab-desktop\\jlab_server\\lib\\site-packages (from nltk) (1.2.0)\n",
      "Requirement already satisfied: regex>=2021.8.3 in d:\\study\\coding\\jupyterlab-desktop\\jlab_server\\lib\\site-packages (from nltk) (2023.6.3)\n",
      "Requirement already satisfied: tqdm in d:\\study\\coding\\jupyterlab-desktop\\jlab_server\\lib\\site-packages (from nltk) (4.65.0)\n",
      "Requirement already satisfied: colorama in d:\\study\\coding\\jupyterlab-desktop\\jlab_server\\lib\\site-packages (from click->nltk) (0.4.6)\n",
      "Requirement already satisfied: plotly in d:\\study\\coding\\jupyterlab-desktop\\jlab_server\\lib\\site-packages (5.14.1)\n",
      "Requirement already satisfied: tenacity>=6.2.0 in d:\\study\\coding\\jupyterlab-desktop\\jlab_server\\lib\\site-packages (from plotly) (8.2.2)\n",
      "Requirement already satisfied: packaging in d:\\study\\coding\\jupyterlab-desktop\\jlab_server\\lib\\site-packages (from plotly) (23.1)\n",
      "Requirement already satisfied: scikit-learn in d:\\study\\coding\\jupyterlab-desktop\\jlab_server\\lib\\site-packages (1.2.2)\n",
      "Requirement already satisfied: numpy>=1.17.3 in d:\\study\\coding\\jupyterlab-desktop\\jlab_server\\lib\\site-packages (from scikit-learn) (1.24.3)\n",
      "Requirement already satisfied: scipy>=1.3.2 in d:\\study\\coding\\jupyterlab-desktop\\jlab_server\\lib\\site-packages (from scikit-learn) (1.10.1)\n",
      "Requirement already satisfied: joblib>=1.1.1 in d:\\study\\coding\\jupyterlab-desktop\\jlab_server\\lib\\site-packages (from scikit-learn) (1.2.0)\n",
      "Requirement already satisfied: threadpoolctl>=2.0.0 in d:\\study\\coding\\jupyterlab-desktop\\jlab_server\\lib\\site-packages (from scikit-learn) (3.1.0)\n",
      "Requirement already satisfied: textblob in d:\\study\\coding\\jupyterlab-desktop\\jlab_server\\lib\\site-packages (0.17.1)\n",
      "Requirement already satisfied: nltk>=3.1 in d:\\study\\coding\\jupyterlab-desktop\\jlab_server\\lib\\site-packages (from textblob) (3.8.1)\n",
      "Requirement already satisfied: click in d:\\study\\coding\\jupyterlab-desktop\\jlab_server\\lib\\site-packages (from nltk>=3.1->textblob) (8.1.3)\n",
      "Requirement already satisfied: joblib in d:\\study\\coding\\jupyterlab-desktop\\jlab_server\\lib\\site-packages (from nltk>=3.1->textblob) (1.2.0)\n",
      "Requirement already satisfied: regex>=2021.8.3 in d:\\study\\coding\\jupyterlab-desktop\\jlab_server\\lib\\site-packages (from nltk>=3.1->textblob) (2023.6.3)\n",
      "Requirement already satisfied: tqdm in d:\\study\\coding\\jupyterlab-desktop\\jlab_server\\lib\\site-packages (from nltk>=3.1->textblob) (4.65.0)\n",
      "Requirement already satisfied: colorama in d:\\study\\coding\\jupyterlab-desktop\\jlab_server\\lib\\site-packages (from click->nltk>=3.1->textblob) (0.4.6)\n"
     ]
    }
   ],
   "source": [
    "#install packages\n",
    "!pip install nltk \n",
    "!pip install plotly\n",
    "!pip install scikit-learn\n",
    "!pip install -U textblob"
   ]
  },
  {
   "cell_type": "code",
   "execution_count": 2,
   "id": "9c4cd446-a533-45cf-a200-5414e874d33d",
   "metadata": {
    "tags": []
   },
   "outputs": [
    {
     "name": "stderr",
     "output_type": "stream",
     "text": [
      "[nltk_data] Downloading package vader_lexicon to\n",
      "[nltk_data]     C:\\Users\\lizhu\\AppData\\Roaming\\nltk_data...\n",
      "[nltk_data]   Package vader_lexicon is already up-to-date!\n",
      "[nltk_data] Downloading package punkt to\n",
      "[nltk_data]     C:\\Users\\lizhu\\AppData\\Roaming\\nltk_data...\n",
      "[nltk_data]   Package punkt is already up-to-date!\n",
      "[nltk_data] Downloading package stopwords to\n",
      "[nltk_data]     C:\\Users\\lizhu\\AppData\\Roaming\\nltk_data...\n",
      "[nltk_data]   Package stopwords is already up-to-date!\n"
     ]
    }
   ],
   "source": [
    "#import necessary libraries\n",
    "import pandas as pd # dataframe manipulation\n",
    "import numpy as np # array manipulation\n",
    "import matplotlib.pyplot as plt # visualization\n",
    "import seaborn as sns # visualization\n",
    "import plotly.express as px # visualization\n",
    "import nltk #for natrual language processing\n",
    "nltk.download('vader_lexicon')\n",
    "nltk.download('punkt')\n",
    "nltk.download('stopwords')\n",
    "from nltk.sentiment.vader import SentimentIntensityAnalyzer\n",
    "from nltk.collocations import BigramAssocMeasures, BigramCollocationFinder\n",
    "from nltk.corpus import stopwords\n",
    "\n",
    "from sklearn.metrics import accuracy_score # accuracy\n",
    "\n",
    "import string\n",
    "import re"
   ]
  },
  {
   "cell_type": "markdown",
   "id": "8b2ef269-7c74-401a-891e-eea3c852bdb0",
   "metadata": {},
   "source": [
    "## Dataset Description\n",
    "This dataset is named 'Coronavirus tweets NLP - Text Classification' downloaded from https://www.kaggle.com/datasets/datatattle/covid-19-nlp-text-classification. \n",
    "\n",
    "The dataset contains 6 columns and 44955 rows of information about the tweets from March 2nd to April 20th 2020 during COVID-19. The columns are: \n",
    "1. UserName:       int64.  The masked users' real names as a sequence of user id's starts from 1 increments by 1\n",
    "2. ScreenName:     int64.  The masked users' usernames as a sequence of user id's starts from 45593 increments by 1\n",
    "3. Location:       String. User input tweet locations\n",
    "4. TweetAt:        String. Tweet posted date in the format of dd-mm-yyyy\n",
    "5. OriginalTweet:  String. The tweet content.\n",
    "6. Sentiment:      String. Sentiment labeled by unkown methods (Extremely Negative, Negative, Neutural, Positive, Extremely Positive).\n"
   ]
  },
  {
   "cell_type": "code",
   "execution_count": 3,
   "id": "6a655b6a-25bc-47a3-aad9-d9e3f7d715fa",
   "metadata": {
    "tags": []
   },
   "outputs": [],
   "source": [
    "# Read the CSV files into separate DataFrames\n",
    "test_df = pd.read_csv('Corona_NLP_test.csv', encoding=\"latin1\")\n",
    "train_df = pd.read_csv('Corona_NLP_train.csv', encoding=\"latin1\")\n",
    "\n",
    "# Concatenate the DataFrames vertically with unique user id's because we are not doing modeling for this project\n",
    "df = pd.concat([test_df, train_df]).drop_duplicates('UserName').reset_index(drop=True)"
   ]
  },
  {
   "cell_type": "code",
   "execution_count": 4,
   "id": "9addfdd5-918c-4937-a8f0-7df91dea1874",
   "metadata": {
    "tags": []
   },
   "outputs": [
    {
     "name": "stdout",
     "output_type": "stream",
     "text": [
      "(44955, 6)\n"
     ]
    }
   ],
   "source": [
    "# The dataset size\n",
    "print(df.shape)"
   ]
  },
  {
   "cell_type": "code",
   "execution_count": 5,
   "id": "f7396f42-7ea0-4810-a1a1-57ba87ea0bbb",
   "metadata": {
    "tags": []
   },
   "outputs": [
    {
     "data": {
      "text/html": [
       "<div>\n",
       "<style scoped>\n",
       "    .dataframe tbody tr th:only-of-type {\n",
       "        vertical-align: middle;\n",
       "    }\n",
       "\n",
       "    .dataframe tbody tr th {\n",
       "        vertical-align: top;\n",
       "    }\n",
       "\n",
       "    .dataframe thead th {\n",
       "        text-align: right;\n",
       "    }\n",
       "</style>\n",
       "<table border=\"1\" class=\"dataframe\">\n",
       "  <thead>\n",
       "    <tr style=\"text-align: right;\">\n",
       "      <th></th>\n",
       "      <th>UserName</th>\n",
       "      <th>ScreenName</th>\n",
       "      <th>Location</th>\n",
       "      <th>TweetAt</th>\n",
       "      <th>OriginalTweet</th>\n",
       "      <th>Sentiment</th>\n",
       "    </tr>\n",
       "  </thead>\n",
       "  <tbody>\n",
       "    <tr>\n",
       "      <th>0</th>\n",
       "      <td>1</td>\n",
       "      <td>44953</td>\n",
       "      <td>NYC</td>\n",
       "      <td>02-03-2020</td>\n",
       "      <td>TRENDING: New Yorkers encounter empty supermar...</td>\n",
       "      <td>Extremely Negative</td>\n",
       "    </tr>\n",
       "    <tr>\n",
       "      <th>1</th>\n",
       "      <td>2</td>\n",
       "      <td>44954</td>\n",
       "      <td>Seattle, WA</td>\n",
       "      <td>02-03-2020</td>\n",
       "      <td>When I couldn't find hand sanitizer at Fred Me...</td>\n",
       "      <td>Positive</td>\n",
       "    </tr>\n",
       "    <tr>\n",
       "      <th>2</th>\n",
       "      <td>3</td>\n",
       "      <td>44955</td>\n",
       "      <td>NaN</td>\n",
       "      <td>02-03-2020</td>\n",
       "      <td>Find out how you can protect yourself and love...</td>\n",
       "      <td>Extremely Positive</td>\n",
       "    </tr>\n",
       "    <tr>\n",
       "      <th>3</th>\n",
       "      <td>4</td>\n",
       "      <td>44956</td>\n",
       "      <td>Chicagoland</td>\n",
       "      <td>02-03-2020</td>\n",
       "      <td>#Panic buying hits #NewYork City as anxious sh...</td>\n",
       "      <td>Negative</td>\n",
       "    </tr>\n",
       "    <tr>\n",
       "      <th>4</th>\n",
       "      <td>5</td>\n",
       "      <td>44957</td>\n",
       "      <td>Melbourne, Victoria</td>\n",
       "      <td>03-03-2020</td>\n",
       "      <td>#toiletpaper #dunnypaper #coronavirus #coronav...</td>\n",
       "      <td>Neutral</td>\n",
       "    </tr>\n",
       "  </tbody>\n",
       "</table>\n",
       "</div>"
      ],
      "text/plain": [
       "   UserName  ScreenName             Location     TweetAt   \n",
       "0         1       44953                  NYC  02-03-2020  \\\n",
       "1         2       44954          Seattle, WA  02-03-2020   \n",
       "2         3       44955                  NaN  02-03-2020   \n",
       "3         4       44956          Chicagoland  02-03-2020   \n",
       "4         5       44957  Melbourne, Victoria  03-03-2020   \n",
       "\n",
       "                                       OriginalTweet           Sentiment  \n",
       "0  TRENDING: New Yorkers encounter empty supermar...  Extremely Negative  \n",
       "1  When I couldn't find hand sanitizer at Fred Me...            Positive  \n",
       "2  Find out how you can protect yourself and love...  Extremely Positive  \n",
       "3  #Panic buying hits #NewYork City as anxious sh...            Negative  \n",
       "4  #toiletpaper #dunnypaper #coronavirus #coronav...             Neutral  "
      ]
     },
     "execution_count": 5,
     "metadata": {},
     "output_type": "execute_result"
    }
   ],
   "source": [
    "# Take a look at the first 5 rows\n",
    "df.head()"
   ]
  },
  {
   "cell_type": "code",
   "execution_count": 6,
   "id": "e7f048c4-eb5b-4a80-8569-451e8d8188d3",
   "metadata": {
    "tags": []
   },
   "outputs": [
    {
     "data": {
      "text/html": [
       "<div>\n",
       "<style scoped>\n",
       "    .dataframe tbody tr th:only-of-type {\n",
       "        vertical-align: middle;\n",
       "    }\n",
       "\n",
       "    .dataframe tbody tr th {\n",
       "        vertical-align: top;\n",
       "    }\n",
       "\n",
       "    .dataframe thead th {\n",
       "        text-align: right;\n",
       "    }\n",
       "</style>\n",
       "<table border=\"1\" class=\"dataframe\">\n",
       "  <thead>\n",
       "    <tr style=\"text-align: right;\">\n",
       "      <th></th>\n",
       "      <th>Location</th>\n",
       "      <th>TweetAt</th>\n",
       "      <th>OriginalTweet</th>\n",
       "      <th>Sentiment</th>\n",
       "    </tr>\n",
       "  </thead>\n",
       "  <tbody>\n",
       "    <tr>\n",
       "      <th>count</th>\n",
       "      <td>35531</td>\n",
       "      <td>44955</td>\n",
       "      <td>44955</td>\n",
       "      <td>44955</td>\n",
       "    </tr>\n",
       "    <tr>\n",
       "      <th>unique</th>\n",
       "      <td>13127</td>\n",
       "      <td>44</td>\n",
       "      <td>44955</td>\n",
       "      <td>5</td>\n",
       "    </tr>\n",
       "    <tr>\n",
       "      <th>top</th>\n",
       "      <td>United States</td>\n",
       "      <td>20-03-2020</td>\n",
       "      <td>TRENDING: New Yorkers encounter empty supermar...</td>\n",
       "      <td>Positive</td>\n",
       "    </tr>\n",
       "    <tr>\n",
       "      <th>freq</th>\n",
       "      <td>603</td>\n",
       "      <td>3448</td>\n",
       "      <td>1</td>\n",
       "      <td>12369</td>\n",
       "    </tr>\n",
       "  </tbody>\n",
       "</table>\n",
       "</div>"
      ],
      "text/plain": [
       "             Location     TweetAt   \n",
       "count           35531       44955  \\\n",
       "unique          13127          44   \n",
       "top     United States  20-03-2020   \n",
       "freq              603        3448   \n",
       "\n",
       "                                            OriginalTweet Sentiment  \n",
       "count                                               44955     44955  \n",
       "unique                                              44955         5  \n",
       "top     TRENDING: New Yorkers encounter empty supermar...  Positive  \n",
       "freq                                                    1     12369  "
      ]
     },
     "execution_count": 6,
     "metadata": {},
     "output_type": "execute_result"
    }
   ],
   "source": [
    "# Statistical summary of the dataset\n",
    "df.describe(include='object')"
   ]
  },
  {
   "cell_type": "markdown",
   "id": "1b71af47-e666-46c0-ad99-5a8c6fc8043c",
   "metadata": {},
   "source": [
    "_We can see that there are 44955 rows for all other columns but only 35531 for location, which indicates there are missing locations and we will take care of in preprocessing. Also notice that the US has only appear 603 times but is the most appeared location, which means the data may nt be in the right uniformed format. The range of days that are included in this data set is 44, but 20-03-2020 has appeared for about 1/13 of the observations._"
   ]
  },
  {
   "cell_type": "markdown",
   "id": "c75698ed-456b-4c83-81ff-35a9e88a9b51",
   "metadata": {},
   "source": [
    "## Data Preprocessing\n"
   ]
  },
  {
   "cell_type": "code",
   "execution_count": 7,
   "id": "fcbf0f10-acb3-4776-9ff4-a9c72604dc76",
   "metadata": {
    "tags": []
   },
   "outputs": [
    {
     "data": {
      "text/plain": [
       "UserName            0\n",
       "ScreenName          0\n",
       "Location         9424\n",
       "TweetAt             0\n",
       "OriginalTweet       0\n",
       "Sentiment           0\n",
       "dtype: int64"
      ]
     },
     "execution_count": 7,
     "metadata": {},
     "output_type": "execute_result"
    }
   ],
   "source": [
    "# Take a look at the missing value\n",
    "df.isna().sum()"
   ]
  },
  {
   "cell_type": "code",
   "execution_count": 8,
   "id": "ba80f143-9c01-4754-aec6-2eb182b1e963",
   "metadata": {
    "tags": []
   },
   "outputs": [
    {
     "data": {
      "text/plain": [
       "UserName         0\n",
       "ScreenName       0\n",
       "Location         0\n",
       "TweetAt          0\n",
       "OriginalTweet    0\n",
       "Sentiment        0\n",
       "dtype: int64"
      ]
     },
     "execution_count": 8,
     "metadata": {},
     "output_type": "execute_result"
    }
   ],
   "source": [
    "# Drop the missing value\n",
    "df.dropna(inplace=True)\n",
    "df.isna().sum()"
   ]
  },
  {
   "cell_type": "code",
   "execution_count": 9,
   "id": "c508bea1-e607-43a4-bd56-f313ee4a3464",
   "metadata": {
    "tags": []
   },
   "outputs": [],
   "source": [
    "#filter data related to the United States\n",
    "\n",
    "#define expression\n",
    "usa_names = ['usa', 'united states'] #define a list of possible names used to represent the United States\n",
    "\n",
    "state_names = ['alabama', 'alaska', 'arizona', 'arkansas', 'california', 'colorado', 'connecticut', 'delaware',\n",
    "              'florida', 'georgia', 'hawaii', 'idaho', 'illinois', 'indiana', 'iowa', 'kansas', 'kentucky','louisiana', \n",
    "               'maine', 'maryland', 'massachusetts', 'michigan', 'minnesota', 'mississippi','missouri', 'montana', \n",
    "               'nebraska', 'nevada', 'new hampshire', 'new jersey', 'new mexico', 'new york', 'north carolina', \n",
    "               'north dakota', 'ohio', 'oklahoma', 'oregon', 'pennsylvania','rhode island', 'south carolina', \n",
    "               'south dakota', 'tennessee', 'texas', 'utah', 'vermont','virginia', 'washington', 'west virginia', \n",
    "               'wisconsin', 'wyoming'] #define a list of possible names used to represent states\n",
    "\n",
    "possib_names = r'\\b(?:{})\\b'.format('|'.join(usa_names + state_names)) #concatenate lists\n",
    "\n",
    "possib_abvs = ['US','AL', 'AK', 'AZ', 'AR', 'CA', 'CO', 'CT', 'DE', 'FL', 'GA', 'HI', 'ID', 'IL', 'IN', 'IA', \n",
    "               'KS', 'KY', 'LA', 'ME', 'MD', 'MA', 'MI', 'MN', 'MS', 'MO', 'MT', 'NE', 'NV', 'NH', 'NJ', 'NM', \n",
    "               'NY', 'NC', 'ND', 'OH', 'OK', 'OR', 'PA', 'RI', 'SC','SD', 'TN', 'TX', 'UT', 'VT', 'VA', 'WA', \n",
    "               'WV', 'WI', 'WY'] #define a list of possible abbreviations of states\n",
    "\n",
    "possib_abvs_1 = r'\\b(?:{})\\b'.format('|'.join(possib_abvs)) #create a word boundary and non-capturing group in the regular expression pattern\n",
    "\n",
    "#the reason for such a complex method is that all locations in the dataset are user-defined\n",
    "#a special note is that since the state abbreviations such as \"IN\" or \"ME\" can lead to ambiguity in lowercase, possib_abvs was created to be matched with the original column ‘Location' in order to obtain cleaner data\n"
   ]
  },
  {
   "cell_type": "code",
   "execution_count": 10,
   "id": "d68df36f-b6de-40a1-83e3-1915071c6e3f",
   "metadata": {
    "tags": []
   },
   "outputs": [
    {
     "data": {
      "text/html": [
       "<div>\n",
       "<style scoped>\n",
       "    .dataframe tbody tr th:only-of-type {\n",
       "        vertical-align: middle;\n",
       "    }\n",
       "\n",
       "    .dataframe tbody tr th {\n",
       "        vertical-align: top;\n",
       "    }\n",
       "\n",
       "    .dataframe thead th {\n",
       "        text-align: right;\n",
       "    }\n",
       "</style>\n",
       "<table border=\"1\" class=\"dataframe\">\n",
       "  <thead>\n",
       "    <tr style=\"text-align: right;\">\n",
       "      <th></th>\n",
       "      <th>UserName</th>\n",
       "      <th>ScreenName</th>\n",
       "      <th>Location</th>\n",
       "      <th>TweetAt</th>\n",
       "      <th>OriginalTweet</th>\n",
       "      <th>Sentiment</th>\n",
       "      <th>Location_lower</th>\n",
       "    </tr>\n",
       "  </thead>\n",
       "  <tbody>\n",
       "    <tr>\n",
       "      <th>1</th>\n",
       "      <td>2</td>\n",
       "      <td>44954</td>\n",
       "      <td>Seattle, WA</td>\n",
       "      <td>02-03-2020</td>\n",
       "      <td>When I couldn't find hand sanitizer at Fred Me...</td>\n",
       "      <td>Positive</td>\n",
       "      <td>seattle, wa</td>\n",
       "    </tr>\n",
       "    <tr>\n",
       "      <th>12</th>\n",
       "      <td>13</td>\n",
       "      <td>44965</td>\n",
       "      <td>USA, PA</td>\n",
       "      <td>04-03-2020</td>\n",
       "      <td>Panic food buying in Germany due to #coronavir...</td>\n",
       "      <td>Extremely Negative</td>\n",
       "      <td>usa, pa</td>\n",
       "    </tr>\n",
       "    <tr>\n",
       "      <th>14</th>\n",
       "      <td>15</td>\n",
       "      <td>44967</td>\n",
       "      <td>Washington, DC</td>\n",
       "      <td>04-03-2020</td>\n",
       "      <td>While we were busy watching election returns a...</td>\n",
       "      <td>Positive</td>\n",
       "      <td>washington, dc</td>\n",
       "    </tr>\n",
       "    <tr>\n",
       "      <th>21</th>\n",
       "      <td>22</td>\n",
       "      <td>44974</td>\n",
       "      <td>Texas, USA</td>\n",
       "      <td>05-03-2020</td>\n",
       "      <td>For those of you that think credit/debit is ju...</td>\n",
       "      <td>Extremely Positive</td>\n",
       "      <td>texas, usa</td>\n",
       "    </tr>\n",
       "    <tr>\n",
       "      <th>22</th>\n",
       "      <td>23</td>\n",
       "      <td>44975</td>\n",
       "      <td>Florida, USA</td>\n",
       "      <td>06-03-2020</td>\n",
       "      <td>Control over stocks and gold is lost...gold co...</td>\n",
       "      <td>Extremely Positive</td>\n",
       "      <td>florida, usa</td>\n",
       "    </tr>\n",
       "    <tr>\n",
       "      <th>...</th>\n",
       "      <td>...</td>\n",
       "      <td>...</td>\n",
       "      <td>...</td>\n",
       "      <td>...</td>\n",
       "      <td>...</td>\n",
       "      <td>...</td>\n",
       "      <td>...</td>\n",
       "    </tr>\n",
       "    <tr>\n",
       "      <th>44934</th>\n",
       "      <td>44935</td>\n",
       "      <td>89887</td>\n",
       "      <td>Pasadena, CA</td>\n",
       "      <td>14-04-2020</td>\n",
       "      <td>How COVID-19 Has Impacted How Consumers Spend ...</td>\n",
       "      <td>Neutral</td>\n",
       "      <td>pasadena, ca</td>\n",
       "    </tr>\n",
       "    <tr>\n",
       "      <th>44936</th>\n",
       "      <td>44937</td>\n",
       "      <td>89889</td>\n",
       "      <td>Los Angeles, CA</td>\n",
       "      <td>14-04-2020</td>\n",
       "      <td>HMU FOR PRICES!! Got great deals going right n...</td>\n",
       "      <td>Extremely Positive</td>\n",
       "      <td>los angeles, ca</td>\n",
       "    </tr>\n",
       "    <tr>\n",
       "      <th>44943</th>\n",
       "      <td>44944</td>\n",
       "      <td>89896</td>\n",
       "      <td>Manhattan, NY</td>\n",
       "      <td>14-04-2020</td>\n",
       "      <td>How exactly are we going to re-open New York C...</td>\n",
       "      <td>Positive</td>\n",
       "      <td>manhattan, ny</td>\n",
       "    </tr>\n",
       "    <tr>\n",
       "      <th>44945</th>\n",
       "      <td>44946</td>\n",
       "      <td>89898</td>\n",
       "      <td>Brooklyn, NY</td>\n",
       "      <td>14-04-2020</td>\n",
       "      <td>YÂall really shitting that much more at home?...</td>\n",
       "      <td>Negative</td>\n",
       "      <td>brooklyn, ny</td>\n",
       "    </tr>\n",
       "    <tr>\n",
       "      <th>44948</th>\n",
       "      <td>44949</td>\n",
       "      <td>89901</td>\n",
       "      <td>OHIO</td>\n",
       "      <td>14-04-2020</td>\n",
       "      <td>I never that weÂd be in a situation &amp;amp; wor...</td>\n",
       "      <td>Positive</td>\n",
       "      <td>ohio</td>\n",
       "    </tr>\n",
       "  </tbody>\n",
       "</table>\n",
       "<p>13002 rows × 7 columns</p>\n",
       "</div>"
      ],
      "text/plain": [
       "       UserName  ScreenName         Location     TweetAt   \n",
       "1             2       44954      Seattle, WA  02-03-2020  \\\n",
       "12           13       44965          USA, PA  04-03-2020   \n",
       "14           15       44967   Washington, DC  04-03-2020   \n",
       "21           22       44974       Texas, USA  05-03-2020   \n",
       "22           23       44975     Florida, USA  06-03-2020   \n",
       "...         ...         ...              ...         ...   \n",
       "44934     44935       89887     Pasadena, CA  14-04-2020   \n",
       "44936     44937       89889  Los Angeles, CA  14-04-2020   \n",
       "44943     44944       89896    Manhattan, NY  14-04-2020   \n",
       "44945     44946       89898     Brooklyn, NY  14-04-2020   \n",
       "44948     44949       89901             OHIO  14-04-2020   \n",
       "\n",
       "                                           OriginalTweet           Sentiment   \n",
       "1      When I couldn't find hand sanitizer at Fred Me...            Positive  \\\n",
       "12     Panic food buying in Germany due to #coronavir...  Extremely Negative   \n",
       "14     While we were busy watching election returns a...            Positive   \n",
       "21     For those of you that think credit/debit is ju...  Extremely Positive   \n",
       "22     Control over stocks and gold is lost...gold co...  Extremely Positive   \n",
       "...                                                  ...                 ...   \n",
       "44934  How COVID-19 Has Impacted How Consumers Spend ...             Neutral   \n",
       "44936  HMU FOR PRICES!! Got great deals going right n...  Extremely Positive   \n",
       "44943  How exactly are we going to re-open New York C...            Positive   \n",
       "44945  YÂall really shitting that much more at home?...            Negative   \n",
       "44948  I never that weÂd be in a situation &amp; wor...            Positive   \n",
       "\n",
       "        Location_lower  \n",
       "1          seattle, wa  \n",
       "12             usa, pa  \n",
       "14      washington, dc  \n",
       "21          texas, usa  \n",
       "22        florida, usa  \n",
       "...                ...  \n",
       "44934     pasadena, ca  \n",
       "44936  los angeles, ca  \n",
       "44943    manhattan, ny  \n",
       "44945     brooklyn, ny  \n",
       "44948             ohio  \n",
       "\n",
       "[13002 rows x 7 columns]"
      ]
     },
     "execution_count": 10,
     "metadata": {},
     "output_type": "execute_result"
    }
   ],
   "source": [
    "#match data to expression\n",
    "df['Location_lower'] = df['Location'].str.lower() #assign a lowercase version of 'Location' \n",
    "\n",
    "filtered_names = df['Location_lower'].str.contains(possib_names, regex=True)\n",
    "filtered_abvs = df['Location'].str.contains(possib_abvs_1, regex=True)\n",
    "filtered_users = filtered_names | filtered_abvs #find the union of filtered_names and filtered_abvs\n",
    "\n",
    "df = df[filtered_users]\n",
    "df"
   ]
  },
  {
   "cell_type": "code",
   "execution_count": 11,
   "id": "e4011dc8-9ccd-4e8c-ae4d-231433d5971d",
   "metadata": {
    "tags": []
   },
   "outputs": [],
   "source": [
    "# Text cleaning\n",
    "def clean_text(text):\n",
    "    text = re.sub(r'http\\S+|www\\S+|https\\S+', '', text, flags=re.MULTILINE)  # remove URLs\n",
    "    text = re.sub(r'@\\w+', '', text)  # remove mentions\n",
    "    text = re.sub(r'#', '', text) # remove hashtag\n",
    "    text = re.sub(r'\\s+', ' ', text)  # remove extra spaces\n",
    "    return text.strip()\n",
    "\n",
    "df['CleanTweet'] = df['OriginalTweet'].apply(clean_text)"
   ]
  },
  {
   "cell_type": "code",
   "execution_count": 12,
   "id": "7fbbc8b8-7dfd-4fd4-8c95-65b7a4332708",
   "metadata": {
    "tags": []
   },
   "outputs": [
    {
     "data": {
      "text/plain": [
       "1        When I couldn't find hand sanitizer at Fred Me...\n",
       "12       Panic food buying in Germany due to coronaviru...\n",
       "14       While we were busy watching election returns a...\n",
       "21       For those of you that think credit/debit is ju...\n",
       "22       Control over stocks and gold is lost...gold co...\n",
       "                               ...                        \n",
       "44934    How COVID-19 Has Impacted How Consumers Spend ...\n",
       "44936    HMU FOR PRICES!! Got great deals going right n...\n",
       "44943    How exactly are we going to re-open New York C...\n",
       "44945    YÂall really shitting that much more at home?...\n",
       "44948    I never that weÂd be in a situation &amp; wor...\n",
       "Name: CleanTweet, Length: 13002, dtype: object"
      ]
     },
     "execution_count": 12,
     "metadata": {},
     "output_type": "execute_result"
    }
   ],
   "source": [
    "# Take a look at the new column \"CleanTweet\"\n",
    "df['CleanTweet']"
   ]
  },
  {
   "cell_type": "markdown",
   "id": "6bf811a2-a3a8-45c8-bd67-3e7cc1b961e2",
   "metadata": {},
   "source": [
    "### 1. Sentiment Analysis"
   ]
  },
  {
   "cell_type": "code",
   "execution_count": 13,
   "id": "7b997e52-7cba-4156-b850-5a3f796fa63c",
   "metadata": {
    "tags": []
   },
   "outputs": [
    {
     "data": {
      "text/plain": [
       "1     {'neg': 0.102, 'neu': 0.848, 'pos': 0.05, 'com...\n",
       "12    {'neg': 0.173, 'neu': 0.827, 'pos': 0.0, 'comp...\n",
       "14    {'neg': 0.0, 'neu': 0.887, 'pos': 0.113, 'comp...\n",
       "21    {'neg': 0.0, 'neu': 0.935, 'pos': 0.065, 'comp...\n",
       "22    {'neg': 0.035, 'neu': 0.778, 'pos': 0.187, 'co...\n",
       "Name: sentiment_scores, dtype: object"
      ]
     },
     "execution_count": 13,
     "metadata": {},
     "output_type": "execute_result"
    }
   ],
   "source": [
    "# Get sentiment scores\n",
    "sia = SentimentIntensityAnalyzer()\n",
    "df['sentiment_scores'] = df['CleanTweet'].apply(lambda x: sia.polarity_scores(x))\n",
    "df['sentiment_scores'].head()"
   ]
  },
  {
   "cell_type": "code",
   "execution_count": 14,
   "id": "a1f59f44-0b9f-4188-a84a-415a887e762f",
   "metadata": {
    "tags": []
   },
   "outputs": [
    {
     "data": {
      "text/html": [
       "<div>\n",
       "<style scoped>\n",
       "    .dataframe tbody tr th:only-of-type {\n",
       "        vertical-align: middle;\n",
       "    }\n",
       "\n",
       "    .dataframe tbody tr th {\n",
       "        vertical-align: top;\n",
       "    }\n",
       "\n",
       "    .dataframe thead th {\n",
       "        text-align: right;\n",
       "    }\n",
       "</style>\n",
       "<table border=\"1\" class=\"dataframe\">\n",
       "  <thead>\n",
       "    <tr style=\"text-align: right;\">\n",
       "      <th></th>\n",
       "      <th>UserName</th>\n",
       "      <th>ScreenName</th>\n",
       "      <th>Location</th>\n",
       "      <th>TweetAt</th>\n",
       "      <th>OriginalTweet</th>\n",
       "      <th>Sentiment</th>\n",
       "      <th>Location_lower</th>\n",
       "      <th>CleanTweet</th>\n",
       "      <th>sentiment_scores</th>\n",
       "      <th>sentiment_label</th>\n",
       "    </tr>\n",
       "  </thead>\n",
       "  <tbody>\n",
       "    <tr>\n",
       "      <th>1</th>\n",
       "      <td>2</td>\n",
       "      <td>44954</td>\n",
       "      <td>Seattle, WA</td>\n",
       "      <td>02-03-2020</td>\n",
       "      <td>When I couldn't find hand sanitizer at Fred Me...</td>\n",
       "      <td>Positive</td>\n",
       "      <td>seattle, wa</td>\n",
       "      <td>When I couldn't find hand sanitizer at Fred Me...</td>\n",
       "      <td>{'neg': 0.102, 'neu': 0.848, 'pos': 0.05, 'com...</td>\n",
       "      <td>Negative</td>\n",
       "    </tr>\n",
       "    <tr>\n",
       "      <th>12</th>\n",
       "      <td>13</td>\n",
       "      <td>44965</td>\n",
       "      <td>USA, PA</td>\n",
       "      <td>04-03-2020</td>\n",
       "      <td>Panic food buying in Germany due to #coronavir...</td>\n",
       "      <td>Extremely Negative</td>\n",
       "      <td>usa, pa</td>\n",
       "      <td>Panic food buying in Germany due to coronaviru...</td>\n",
       "      <td>{'neg': 0.173, 'neu': 0.827, 'pos': 0.0, 'comp...</td>\n",
       "      <td>Extremely Negative</td>\n",
       "    </tr>\n",
       "    <tr>\n",
       "      <th>14</th>\n",
       "      <td>15</td>\n",
       "      <td>44967</td>\n",
       "      <td>Washington, DC</td>\n",
       "      <td>04-03-2020</td>\n",
       "      <td>While we were busy watching election returns a...</td>\n",
       "      <td>Positive</td>\n",
       "      <td>washington, dc</td>\n",
       "      <td>While we were busy watching election returns a...</td>\n",
       "      <td>{'neg': 0.0, 'neu': 0.887, 'pos': 0.113, 'comp...</td>\n",
       "      <td>Positive</td>\n",
       "    </tr>\n",
       "    <tr>\n",
       "      <th>21</th>\n",
       "      <td>22</td>\n",
       "      <td>44974</td>\n",
       "      <td>Texas, USA</td>\n",
       "      <td>05-03-2020</td>\n",
       "      <td>For those of you that think credit/debit is ju...</td>\n",
       "      <td>Extremely Positive</td>\n",
       "      <td>texas, usa</td>\n",
       "      <td>For those of you that think credit/debit is ju...</td>\n",
       "      <td>{'neg': 0.0, 'neu': 0.935, 'pos': 0.065, 'comp...</td>\n",
       "      <td>Positive</td>\n",
       "    </tr>\n",
       "    <tr>\n",
       "      <th>22</th>\n",
       "      <td>23</td>\n",
       "      <td>44975</td>\n",
       "      <td>Florida, USA</td>\n",
       "      <td>06-03-2020</td>\n",
       "      <td>Control over stocks and gold is lost...gold co...</td>\n",
       "      <td>Extremely Positive</td>\n",
       "      <td>florida, usa</td>\n",
       "      <td>Control over stocks and gold is lost...gold co...</td>\n",
       "      <td>{'neg': 0.035, 'neu': 0.778, 'pos': 0.187, 'co...</td>\n",
       "      <td>Extremely Positive</td>\n",
       "    </tr>\n",
       "  </tbody>\n",
       "</table>\n",
       "</div>"
      ],
      "text/plain": [
       "    UserName  ScreenName        Location     TweetAt   \n",
       "1          2       44954     Seattle, WA  02-03-2020  \\\n",
       "12        13       44965         USA, PA  04-03-2020   \n",
       "14        15       44967  Washington, DC  04-03-2020   \n",
       "21        22       44974      Texas, USA  05-03-2020   \n",
       "22        23       44975    Florida, USA  06-03-2020   \n",
       "\n",
       "                                        OriginalTweet           Sentiment   \n",
       "1   When I couldn't find hand sanitizer at Fred Me...            Positive  \\\n",
       "12  Panic food buying in Germany due to #coronavir...  Extremely Negative   \n",
       "14  While we were busy watching election returns a...            Positive   \n",
       "21  For those of you that think credit/debit is ju...  Extremely Positive   \n",
       "22  Control over stocks and gold is lost...gold co...  Extremely Positive   \n",
       "\n",
       "    Location_lower                                         CleanTweet   \n",
       "1      seattle, wa  When I couldn't find hand sanitizer at Fred Me...  \\\n",
       "12         usa, pa  Panic food buying in Germany due to coronaviru...   \n",
       "14  washington, dc  While we were busy watching election returns a...   \n",
       "21      texas, usa  For those of you that think credit/debit is ju...   \n",
       "22    florida, usa  Control over stocks and gold is lost...gold co...   \n",
       "\n",
       "                                     sentiment_scores     sentiment_label  \n",
       "1   {'neg': 0.102, 'neu': 0.848, 'pos': 0.05, 'com...            Negative  \n",
       "12  {'neg': 0.173, 'neu': 0.827, 'pos': 0.0, 'comp...  Extremely Negative  \n",
       "14  {'neg': 0.0, 'neu': 0.887, 'pos': 0.113, 'comp...            Positive  \n",
       "21  {'neg': 0.0, 'neu': 0.935, 'pos': 0.065, 'comp...            Positive  \n",
       "22  {'neg': 0.035, 'neu': 0.778, 'pos': 0.187, 'co...  Extremely Positive  "
      ]
     },
     "execution_count": 14,
     "metadata": {},
     "output_type": "execute_result"
    }
   ],
   "source": [
    "# Get sentiment labels using compound sentiment scores\n",
    "def get_sentiment_label(score):\n",
    "    if score >= 0.6:\n",
    "        return 'Extremely Positive'\n",
    "    elif score >= 0.2:\n",
    "        return 'Positive'\n",
    "    elif score >= -0.2:\n",
    "        return 'Neutral'\n",
    "    elif score >= -0.6:\n",
    "        return 'Negative'\n",
    "    else:\n",
    "        return 'Extremely Negative'\n",
    "    \n",
    "df['sentiment_label'] = df['sentiment_scores'].apply(lambda x: get_sentiment_label(x['compound']))\n",
    "df.head()"
   ]
  },
  {
   "cell_type": "code",
   "execution_count": 15,
   "id": "edffc118-fe75-4f19-ae53-74915201618c",
   "metadata": {
    "tags": []
   },
   "outputs": [
    {
     "data": {
      "image/png": "[encoded data removed]",
      "text/plain": [
       "<Figure size 640x480 with 1 Axes>"
      ]
     },
     "metadata": {},
     "output_type": "display_data"
    }
   ],
   "source": [
    "# Make a countplot\n",
    "sns.set(style='darkgrid')\n",
    "sns.countplot(data = df, \n",
    "              x = 'sentiment_label',\n",
    "              order = ['Extremely Positive', 'Positive', 'Neutral', \n",
    "                       'Negative', 'Extremely Negative'], #display in a Likert scale way\n",
    "              palette = ['#BEEB9F', '#FDC68A', '#A6C9E5', '#FF9AA2', '#DAB7FF'])\n",
    "\n",
    "# Add labels and title\n",
    "plt.xlabel('Sentiment Type')\n",
    "plt.ylabel('Count')\n",
    "plt.title('Sentiment Distribution')\n",
    "plt.xticks(fontsize='small')\n",
    "\n",
    "# Display the plot\n",
    "plt.show()"
   ]
  },
  {
   "cell_type": "code",
   "execution_count": 16,
   "id": "b414a40b-d03c-4f7a-9422-ad6109c5cb3b",
   "metadata": {
    "tags": []
   },
   "outputs": [
    {
     "data": {
      "image/png": "[encoded data removed]",
      "text/plain": [
       "<Figure size 640x480 with 1 Axes>"
      ]
     },
     "metadata": {},
     "output_type": "display_data"
    }
   ],
   "source": [
    "#generate pie chart\n",
    "plt.pie(data = df,\n",
    "        x = df['sentiment_label'].value_counts(),\n",
    "        labels = ['Positive', 'Negative','Neutral','Extremely Positive', \n",
    "                  'Extremely Negative'], #keep consistency of labels\n",
    "        colors = sns.color_palette(palette = ['#FDC68A', '#FF9AA2', '#A6C9E5', '#BEEB9F', \n",
    "                                              '#DAB7FF']), #keep consistency of colors\n",
    "        autopct='%.0f%%')\n",
    "plt.title('Sentiment Distribution')\n",
    "plt.show()"
   ]
  },
  {
   "cell_type": "markdown",
   "id": "05b1461a-4406-41de-a160-50dc249dc34d",
   "metadata": {},
   "source": [
    "### 2. Collocation Analysis"
   ]
  },
  {
   "cell_type": "code",
   "execution_count": 17,
   "id": "c7439fcd-9dd9-472c-beed-c8f89a90bff1",
   "metadata": {
    "tags": []
   },
   "outputs": [],
   "source": [
    "def find_collocations(text, num_collocations=10):\n",
    "    # Tokenize the input text\n",
    "    tokens = nltk.word_tokenize(text)\n",
    "    # Create a BigramAssocMeasures object to compute the PMI scores\n",
    "    bigram_measures = BigramAssocMeasures()\n",
    "    # Create a BigramCollocationFinder object from the tokens\n",
    "    finder = BigramCollocationFinder.from_words(tokens)\n",
    "    # Apply a frequency filter to keep only bigrams that appear at least twice\n",
    "    finder.apply_freq_filter(2)\n",
    "    # Apply a word filter to exclude bigrams containing stopwords or punctuations\n",
    "    finder.apply_word_filter(lambda w: w.lower() in stopwords.words('english') or w in string.punctuation)\n",
    "    # Return the top num_collocations bigrams with the highest PMI scores\n",
    "    return finder.nbest(bigram_measures.pmi, num_collocations)"
   ]
  },
  {
   "cell_type": "code",
   "execution_count": 18,
   "id": "b88e5b96-2972-4391-868a-14e4ee55d0df",
   "metadata": {
    "tags": []
   },
   "outputs": [
    {
     "data": {
      "text/plain": [
       "45                                [(Tax, Credit)]\n",
       "112                              [(good, chance)]\n",
       "113                             [(toilet, paper)]\n",
       "152                   [(3, extra), (extra, days)]\n",
       "209                           [(first, purchase)]\n",
       "                           ...                   \n",
       "44372                 [(low, oil), (oil, prices)]\n",
       "44438                             [(food, items)]\n",
       "44547                               [(need, PPE)]\n",
       "44581    [(theyÂre, going), (whether, theyÂre)]\n",
       "44830                          [(everyone, else)]\n",
       "Name: Collocations, Length: 522, dtype: object"
      ]
     },
     "execution_count": 18,
     "metadata": {},
     "output_type": "execute_result"
    }
   ],
   "source": [
    "# Apply the function to every row of clean text to a new column named 'Collocations'\n",
    "df['Collocations'] = df['CleanTweet'].apply(find_collocations)\n",
    "# Look at the columns that have collocations\n",
    "df[df['Collocations'].apply(len) > 0]['Collocations']"
   ]
  },
  {
   "cell_type": "code",
   "execution_count": 19,
   "id": "5c32e343-9306-455c-867e-534e3aa42126",
   "metadata": {
    "tags": []
   },
   "outputs": [
    {
     "data": {
      "image/png": "[encoded data removed]",
      "text/plain": [
       "<Figure size 1000x600 with 1 Axes>"
      ]
     },
     "metadata": {},
     "output_type": "display_data"
    }
   ],
   "source": [
    "# Flatten the collocations column\n",
    "collocations_flat = [col for sublist in df['Collocations'] for col in sublist]\n",
    "\n",
    "# Count the frequency of each collocation\n",
    "collocation_counts = pd.Series(collocations_flat).value_counts()\n",
    "\n",
    "# Filter collocations with frequency greater than 10\n",
    "filtered_collocations = collocation_counts[collocation_counts > 10]\n",
    "\n",
    "# Create a bar chart\n",
    "plt.figure(figsize=(10, 6))\n",
    "ax = filtered_collocations.plot(kind='bar', \n",
    "                                color = sns.color_palette(palette = ['#FDC68A', '#FF9AA2', '#A6C9E5', '#BEEB9F', \n",
    "                                              '#DAB7FF']) )#keep consistency of colors\n",
    "plt.xlabel('Collocation')\n",
    "plt.ylabel('Frequency')\n",
    "plt.title('Collocations with Frequency > 10')\n",
    "\n",
    "# Add count labels on the bars\n",
    "for i, v in enumerate(filtered_collocations):\n",
    "    ax.text(i, v, str(v), ha='center', va='bottom')\n",
    "\n",
    "#keep consistency of rotation, fontsize, and position the label below each bar\n",
    "plt.xticks(rotation=10, fontsize='x-small', ha='center') \n",
    "    \n",
    "plt.show()"
   ]
  },
  {
   "cell_type": "markdown",
   "id": "846b57b5-7de5-45a7-b7a7-10924d8de998",
   "metadata": {},
   "source": [
    "## Results/Findings\n",
    "[Provide text descriptions for your results/findings.]"
   ]
  },
  {
   "cell_type": "markdown",
   "id": "a0dddb6d-05bd-45ab-b2eb-926ad6b7d4ac",
   "metadata": {},
   "source": [
    "## Extra Findings\n"
   ]
  },
  {
   "cell_type": "code",
   "execution_count": 20,
   "id": "315b48d2-c18d-4a36-901a-9eabe8eed182",
   "metadata": {
    "tags": []
   },
   "outputs": [
    {
     "data": {
      "text/plain": [
       "0.8208737117366559"
      ]
     },
     "execution_count": 20,
     "metadata": {},
     "output_type": "execute_result"
    }
   ],
   "source": [
    "# Compare our new sentiment labels with the original sentiment\n",
    "accuracy_score(df['Sentiment'], df['sentiment_label'])"
   ]
  },
  {
   "cell_type": "markdown",
   "id": "143dcfb2-effe-455c-a03b-22f6620c76db",
   "metadata": {},
   "source": [
    "_We discovered that our analyzed sentiment is 82.09% accurate compared to the original sentiment that came with the dataset. But we only focus on the new analyzed sentiment in this project._"
   ]
  },
  {
   "cell_type": "markdown",
   "id": "62de325f-4cf2-4d40-96d3-ce5a5c2e484e",
   "metadata": {},
   "source": [
    "## Contribution\n",
    "[Specify each group member's contributions.]"
   ]
  }
 ],
 "metadata": {
  "kernelspec": {
   "display_name": "Python 3 (ipykernel)",
   "language": "python",
   "name": "python3"
  },
  "language_info": {
   "codemirror_mode": {
    "name": "ipython",
    "version": 3
   },
   "file_extension": ".py",
   "mimetype": "text/x-python",
   "name": "python",
   "nbconvert_exporter": "python",
   "pygments_lexer": "ipython3",
   "version": "3.10.9"
  }
 },
 "nbformat": 4,
 "nbformat_minor": 5
}
